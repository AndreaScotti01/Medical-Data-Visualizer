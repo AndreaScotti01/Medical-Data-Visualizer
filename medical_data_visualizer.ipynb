{
 "cells": [
  {
   "cell_type": "code",
   "execution_count": 217,
   "id": "f2f664b3",
   "metadata": {
    "ExecuteTime": {
     "end_time": "2022-09-08T17:27:29.400934Z",
     "start_time": "2022-09-08T17:27:29.395926Z"
    }
   },
   "outputs": [],
   "source": [
    "import pandas as pd\n",
    "import seaborn as sns\n",
    "import matplotlib.pyplot as plt\n",
    "import numpy as np"
   ]
  },
  {
   "cell_type": "code",
   "execution_count": 218,
   "id": "2fff16dc",
   "metadata": {
    "ExecuteTime": {
     "end_time": "2022-09-08T17:27:29.478693Z",
     "start_time": "2022-09-08T17:27:29.402906Z"
    }
   },
   "outputs": [
    {
     "name": "stdout",
     "output_type": "stream",
     "text": [
      "<class 'pandas.core.frame.DataFrame'>\n",
      "RangeIndex: 70000 entries, 0 to 69999\n",
      "Data columns (total 13 columns):\n",
      " #   Column       Non-Null Count  Dtype  \n",
      "---  ------       --------------  -----  \n",
      " 0   id           70000 non-null  int64  \n",
      " 1   age          70000 non-null  int64  \n",
      " 2   sex          70000 non-null  int64  \n",
      " 3   height       70000 non-null  int64  \n",
      " 4   weight       70000 non-null  float64\n",
      " 5   ap_hi        70000 non-null  int64  \n",
      " 6   ap_lo        70000 non-null  int64  \n",
      " 7   cholesterol  70000 non-null  int64  \n",
      " 8   gluc         70000 non-null  int64  \n",
      " 9   smoke        70000 non-null  int64  \n",
      " 10  alco         70000 non-null  int64  \n",
      " 11  active       70000 non-null  int64  \n",
      " 12  cardio       70000 non-null  int64  \n",
      "dtypes: float64(1), int64(12)\n",
      "memory usage: 6.9 MB\n"
     ]
    }
   ],
   "source": [
    "df = pd.read_csv(\"medical_examination.csv\")\n",
    "df.info()"
   ]
  },
  {
   "cell_type": "markdown",
   "id": "903e3059",
   "metadata": {},
   "source": [
    "**Add an overweight column to the data. To determine if a person is overweight, first calculate their BMI by dividing their weight in kilograms by the square of their height in meters. If that value is > 25 then the person is overweight. Use the value 0 for NOT overweight and the value 1 for overweight.**"
   ]
  },
  {
   "cell_type": "code",
   "execution_count": 219,
   "id": "cf6c6c2b",
   "metadata": {
    "ExecuteTime": {
     "end_time": "2022-09-08T17:27:29.509644Z",
     "start_time": "2022-09-08T17:27:29.479702Z"
    }
   },
   "outputs": [
    {
     "data": {
      "text/html": [
       "<div>\n",
       "<style scoped>\n",
       "    .dataframe tbody tr th:only-of-type {\n",
       "        vertical-align: middle;\n",
       "    }\n",
       "\n",
       "    .dataframe tbody tr th {\n",
       "        vertical-align: top;\n",
       "    }\n",
       "\n",
       "    .dataframe thead th {\n",
       "        text-align: right;\n",
       "    }\n",
       "</style>\n",
       "<table border=\"1\" class=\"dataframe\">\n",
       "  <thead>\n",
       "    <tr style=\"text-align: right;\">\n",
       "      <th></th>\n",
       "      <th>id</th>\n",
       "      <th>age</th>\n",
       "      <th>sex</th>\n",
       "      <th>height</th>\n",
       "      <th>weight</th>\n",
       "      <th>ap_hi</th>\n",
       "      <th>ap_lo</th>\n",
       "      <th>cholesterol</th>\n",
       "      <th>gluc</th>\n",
       "      <th>smoke</th>\n",
       "      <th>alco</th>\n",
       "      <th>active</th>\n",
       "      <th>cardio</th>\n",
       "      <th>overweight</th>\n",
       "    </tr>\n",
       "  </thead>\n",
       "  <tbody>\n",
       "    <tr>\n",
       "      <th>0</th>\n",
       "      <td>0</td>\n",
       "      <td>18393</td>\n",
       "      <td>2</td>\n",
       "      <td>1.68</td>\n",
       "      <td>62.0</td>\n",
       "      <td>110</td>\n",
       "      <td>80</td>\n",
       "      <td>1</td>\n",
       "      <td>1</td>\n",
       "      <td>0</td>\n",
       "      <td>0</td>\n",
       "      <td>1</td>\n",
       "      <td>0</td>\n",
       "      <td>0.0</td>\n",
       "    </tr>\n",
       "    <tr>\n",
       "      <th>1</th>\n",
       "      <td>1</td>\n",
       "      <td>20228</td>\n",
       "      <td>1</td>\n",
       "      <td>1.56</td>\n",
       "      <td>85.0</td>\n",
       "      <td>140</td>\n",
       "      <td>90</td>\n",
       "      <td>3</td>\n",
       "      <td>1</td>\n",
       "      <td>0</td>\n",
       "      <td>0</td>\n",
       "      <td>1</td>\n",
       "      <td>1</td>\n",
       "      <td>1.0</td>\n",
       "    </tr>\n",
       "    <tr>\n",
       "      <th>2</th>\n",
       "      <td>2</td>\n",
       "      <td>18857</td>\n",
       "      <td>1</td>\n",
       "      <td>1.65</td>\n",
       "      <td>64.0</td>\n",
       "      <td>130</td>\n",
       "      <td>70</td>\n",
       "      <td>3</td>\n",
       "      <td>1</td>\n",
       "      <td>0</td>\n",
       "      <td>0</td>\n",
       "      <td>0</td>\n",
       "      <td>1</td>\n",
       "      <td>0.0</td>\n",
       "    </tr>\n",
       "    <tr>\n",
       "      <th>3</th>\n",
       "      <td>3</td>\n",
       "      <td>17623</td>\n",
       "      <td>2</td>\n",
       "      <td>1.69</td>\n",
       "      <td>82.0</td>\n",
       "      <td>150</td>\n",
       "      <td>100</td>\n",
       "      <td>1</td>\n",
       "      <td>1</td>\n",
       "      <td>0</td>\n",
       "      <td>0</td>\n",
       "      <td>1</td>\n",
       "      <td>1</td>\n",
       "      <td>1.0</td>\n",
       "    </tr>\n",
       "    <tr>\n",
       "      <th>4</th>\n",
       "      <td>4</td>\n",
       "      <td>17474</td>\n",
       "      <td>1</td>\n",
       "      <td>1.56</td>\n",
       "      <td>56.0</td>\n",
       "      <td>100</td>\n",
       "      <td>60</td>\n",
       "      <td>1</td>\n",
       "      <td>1</td>\n",
       "      <td>0</td>\n",
       "      <td>0</td>\n",
       "      <td>0</td>\n",
       "      <td>0</td>\n",
       "      <td>0.0</td>\n",
       "    </tr>\n",
       "  </tbody>\n",
       "</table>\n",
       "</div>"
      ],
      "text/plain": [
       "   id    age  sex  height  weight  ap_hi  ap_lo  cholesterol  gluc  smoke  \\\n",
       "0   0  18393    2    1.68    62.0    110     80            1     1      0   \n",
       "1   1  20228    1    1.56    85.0    140     90            3     1      0   \n",
       "2   2  18857    1    1.65    64.0    130     70            3     1      0   \n",
       "3   3  17623    2    1.69    82.0    150    100            1     1      0   \n",
       "4   4  17474    1    1.56    56.0    100     60            1     1      0   \n",
       "\n",
       "   alco  active  cardio  overweight  \n",
       "0     0       1       0         0.0  \n",
       "1     0       1       1         1.0  \n",
       "2     0       0       1         0.0  \n",
       "3     0       1       1         1.0  \n",
       "4     0       0       0         0.0  "
      ]
     },
     "execution_count": 219,
     "metadata": {},
     "output_type": "execute_result"
    }
   ],
   "source": [
    "df[\"height\"] = (df[\"height\"]/100).astype(float)\n",
    "df[\"overweight\"] = (df[\"weight\"]/(df[\"height\"])**2).astype(float)\n",
    "df.loc[df['overweight'] <= 25.0, 'overweight'] = 0\n",
    "df.loc[df['overweight'] > 25.0, 'overweight'] = 1\n",
    "df.head()"
   ]
  },
  {
   "cell_type": "markdown",
   "id": "88b89de8",
   "metadata": {},
   "source": [
    "**Normalize the data by making 0 always good and 1 always bad. If the value of cholesterol or gluc is 1, make the value 0. If the value is more than 1, make the value 1.**"
   ]
  },
  {
   "cell_type": "code",
   "execution_count": 220,
   "id": "26c54dcc",
   "metadata": {
    "ExecuteTime": {
     "end_time": "2022-09-08T17:27:29.712621Z",
     "start_time": "2022-09-08T17:27:29.511603Z"
    }
   },
   "outputs": [
    {
     "data": {
      "text/plain": [
       "<AxesSubplot:>"
      ]
     },
     "execution_count": 220,
     "metadata": {},
     "output_type": "execute_result"
    },
    {
     "data": {
      "image/png": "[encoded data removed]",
      "text/plain": [
       "<Figure size 640x480 with 1 Axes>"
      ]
     },
     "metadata": {},
     "output_type": "display_data"
    }
   ],
   "source": [
    "sns.boxplot(data=df[[\"cholesterol\",\"gluc\",\"smoke\",\"alco\",\"active\",\"cardio\"]])"
   ]
  },
  {
   "cell_type": "code",
   "execution_count": 221,
   "id": "91295138",
   "metadata": {
    "ExecuteTime": {
     "end_time": "2022-09-08T17:27:29.933118Z",
     "start_time": "2022-09-08T17:27:29.713631Z"
    }
   },
   "outputs": [
    {
     "data": {
      "text/plain": [
       "<AxesSubplot:>"
      ]
     },
     "execution_count": 221,
     "metadata": {},
     "output_type": "execute_result"
    },
    {
     "data": {
      "image/png": "[encoded data removed]",
      "text/plain": [
       "<Figure size 640x480 with 1 Axes>"
      ]
     },
     "metadata": {},
     "output_type": "display_data"
    }
   ],
   "source": [
    "mapper = {1: 0, 0:1}\n",
    "for col in [\"cholesterol\",\"gluc\"]:\n",
    "    df[col] = df[col].replace(mapper)\n",
    "    df.loc[df[col] > 1,col] = 1\n",
    "\n",
    "sns.boxplot(data=df[[\"cholesterol\",\"gluc\",\"smoke\",\"alco\",\"active\",\"cardio\"]])"
   ]
  },
  {
   "cell_type": "markdown",
   "id": "7aee3f3b",
   "metadata": {},
   "source": [
    "**Convert the data into long format and create a chart that shows the value counts of the categorical features using seaborn's catplot(). The dataset should be split by 'Cardio' so there is one chart for each cardio value. The chart should look like examples/Figure_1.png.**"
   ]
  },
  {
   "cell_type": "code",
   "execution_count": 222,
   "id": "0e336c9c",
   "metadata": {
    "ExecuteTime": {
     "end_time": "2022-09-08T17:27:30.026987Z",
     "start_time": "2022-09-08T17:27:29.934103Z"
    }
   },
   "outputs": [
    {
     "data": {
      "text/html": [
       "<div>\n",
       "<style scoped>\n",
       "    .dataframe tbody tr th:only-of-type {\n",
       "        vertical-align: middle;\n",
       "    }\n",
       "\n",
       "    .dataframe tbody tr th {\n",
       "        vertical-align: top;\n",
       "    }\n",
       "\n",
       "    .dataframe thead th {\n",
       "        text-align: right;\n",
       "    }\n",
       "</style>\n",
       "<table border=\"1\" class=\"dataframe\">\n",
       "  <thead>\n",
       "    <tr style=\"text-align: right;\">\n",
       "      <th></th>\n",
       "      <th>cardio</th>\n",
       "      <th>variable</th>\n",
       "      <th>value</th>\n",
       "      <th>total</th>\n",
       "    </tr>\n",
       "  </thead>\n",
       "  <tbody>\n",
       "    <tr>\n",
       "      <th>0</th>\n",
       "      <td>0</td>\n",
       "      <td>active</td>\n",
       "      <td>0.0</td>\n",
       "      <td>6378</td>\n",
       "    </tr>\n",
       "    <tr>\n",
       "      <th>1</th>\n",
       "      <td>0</td>\n",
       "      <td>active</td>\n",
       "      <td>1.0</td>\n",
       "      <td>28643</td>\n",
       "    </tr>\n",
       "    <tr>\n",
       "      <th>2</th>\n",
       "      <td>0</td>\n",
       "      <td>alco</td>\n",
       "      <td>0.0</td>\n",
       "      <td>33080</td>\n",
       "    </tr>\n",
       "    <tr>\n",
       "      <th>3</th>\n",
       "      <td>0</td>\n",
       "      <td>alco</td>\n",
       "      <td>1.0</td>\n",
       "      <td>1941</td>\n",
       "    </tr>\n",
       "    <tr>\n",
       "      <th>4</th>\n",
       "      <td>0</td>\n",
       "      <td>cholesterol</td>\n",
       "      <td>0.0</td>\n",
       "      <td>29330</td>\n",
       "    </tr>\n",
       "    <tr>\n",
       "      <th>5</th>\n",
       "      <td>0</td>\n",
       "      <td>cholesterol</td>\n",
       "      <td>1.0</td>\n",
       "      <td>5691</td>\n",
       "    </tr>\n",
       "    <tr>\n",
       "      <th>6</th>\n",
       "      <td>0</td>\n",
       "      <td>gluc</td>\n",
       "      <td>0.0</td>\n",
       "      <td>30894</td>\n",
       "    </tr>\n",
       "    <tr>\n",
       "      <th>7</th>\n",
       "      <td>0</td>\n",
       "      <td>gluc</td>\n",
       "      <td>1.0</td>\n",
       "      <td>4127</td>\n",
       "    </tr>\n",
       "    <tr>\n",
       "      <th>8</th>\n",
       "      <td>0</td>\n",
       "      <td>overweight</td>\n",
       "      <td>0.0</td>\n",
       "      <td>15915</td>\n",
       "    </tr>\n",
       "    <tr>\n",
       "      <th>9</th>\n",
       "      <td>0</td>\n",
       "      <td>overweight</td>\n",
       "      <td>1.0</td>\n",
       "      <td>19106</td>\n",
       "    </tr>\n",
       "    <tr>\n",
       "      <th>10</th>\n",
       "      <td>0</td>\n",
       "      <td>smoke</td>\n",
       "      <td>0.0</td>\n",
       "      <td>31781</td>\n",
       "    </tr>\n",
       "    <tr>\n",
       "      <th>11</th>\n",
       "      <td>0</td>\n",
       "      <td>smoke</td>\n",
       "      <td>1.0</td>\n",
       "      <td>3240</td>\n",
       "    </tr>\n",
       "    <tr>\n",
       "      <th>12</th>\n",
       "      <td>1</td>\n",
       "      <td>active</td>\n",
       "      <td>0.0</td>\n",
       "      <td>7361</td>\n",
       "    </tr>\n",
       "    <tr>\n",
       "      <th>13</th>\n",
       "      <td>1</td>\n",
       "      <td>active</td>\n",
       "      <td>1.0</td>\n",
       "      <td>27618</td>\n",
       "    </tr>\n",
       "    <tr>\n",
       "      <th>14</th>\n",
       "      <td>1</td>\n",
       "      <td>alco</td>\n",
       "      <td>0.0</td>\n",
       "      <td>33156</td>\n",
       "    </tr>\n",
       "    <tr>\n",
       "      <th>15</th>\n",
       "      <td>1</td>\n",
       "      <td>alco</td>\n",
       "      <td>1.0</td>\n",
       "      <td>1823</td>\n",
       "    </tr>\n",
       "    <tr>\n",
       "      <th>16</th>\n",
       "      <td>1</td>\n",
       "      <td>cholesterol</td>\n",
       "      <td>0.0</td>\n",
       "      <td>23055</td>\n",
       "    </tr>\n",
       "    <tr>\n",
       "      <th>17</th>\n",
       "      <td>1</td>\n",
       "      <td>cholesterol</td>\n",
       "      <td>1.0</td>\n",
       "      <td>11924</td>\n",
       "    </tr>\n",
       "    <tr>\n",
       "      <th>18</th>\n",
       "      <td>1</td>\n",
       "      <td>gluc</td>\n",
       "      <td>0.0</td>\n",
       "      <td>28585</td>\n",
       "    </tr>\n",
       "    <tr>\n",
       "      <th>19</th>\n",
       "      <td>1</td>\n",
       "      <td>gluc</td>\n",
       "      <td>1.0</td>\n",
       "      <td>6394</td>\n",
       "    </tr>\n",
       "    <tr>\n",
       "      <th>20</th>\n",
       "      <td>1</td>\n",
       "      <td>overweight</td>\n",
       "      <td>0.0</td>\n",
       "      <td>10539</td>\n",
       "    </tr>\n",
       "    <tr>\n",
       "      <th>21</th>\n",
       "      <td>1</td>\n",
       "      <td>overweight</td>\n",
       "      <td>1.0</td>\n",
       "      <td>24440</td>\n",
       "    </tr>\n",
       "    <tr>\n",
       "      <th>22</th>\n",
       "      <td>1</td>\n",
       "      <td>smoke</td>\n",
       "      <td>0.0</td>\n",
       "      <td>32050</td>\n",
       "    </tr>\n",
       "    <tr>\n",
       "      <th>23</th>\n",
       "      <td>1</td>\n",
       "      <td>smoke</td>\n",
       "      <td>1.0</td>\n",
       "      <td>2929</td>\n",
       "    </tr>\n",
       "  </tbody>\n",
       "</table>\n",
       "</div>"
      ],
      "text/plain": [
       "    cardio     variable  value  total\n",
       "0        0       active    0.0   6378\n",
       "1        0       active    1.0  28643\n",
       "2        0         alco    0.0  33080\n",
       "3        0         alco    1.0   1941\n",
       "4        0  cholesterol    0.0  29330\n",
       "5        0  cholesterol    1.0   5691\n",
       "6        0         gluc    0.0  30894\n",
       "7        0         gluc    1.0   4127\n",
       "8        0   overweight    0.0  15915\n",
       "9        0   overweight    1.0  19106\n",
       "10       0        smoke    0.0  31781\n",
       "11       0        smoke    1.0   3240\n",
       "12       1       active    0.0   7361\n",
       "13       1       active    1.0  27618\n",
       "14       1         alco    0.0  33156\n",
       "15       1         alco    1.0   1823\n",
       "16       1  cholesterol    0.0  23055\n",
       "17       1  cholesterol    1.0  11924\n",
       "18       1         gluc    0.0  28585\n",
       "19       1         gluc    1.0   6394\n",
       "20       1   overweight    0.0  10539\n",
       "21       1   overweight    1.0  24440\n",
       "22       1        smoke    0.0  32050\n",
       "23       1        smoke    1.0   2929"
      ]
     },
     "execution_count": 222,
     "metadata": {},
     "output_type": "execute_result"
    }
   ],
   "source": [
    "df_melted = df.reset_index(drop=True).melt(id_vars=[\"cardio\"],value_vars=['cholesterol', 'gluc', 'smoke', 'alco', 'active','overweight'])\n",
    "df_melted = pd.DataFrame(df_melted.groupby([\"cardio\",\"variable\",\"value\"])[\"value\"].count())\n",
    "df_melted.rename(columns={\"value\":\"total\"},inplace=True)\n",
    "df_melted.reset_index(level=[\"cardio\",'variable', 'value'],inplace=True)\n",
    "df_melted"
   ]
  },
  {
   "cell_type": "code",
   "execution_count": 223,
   "id": "35b08baf",
   "metadata": {
    "ExecuteTime": {
     "end_time": "2022-09-08T17:27:30.369560Z",
     "start_time": "2022-09-08T17:27:30.028989Z"
    }
   },
   "outputs": [
    {
     "data": {
      "text/plain": [
       "<seaborn.axisgrid.FacetGrid at 0x684e6160>"
      ]
     },
     "execution_count": 223,
     "metadata": {},
     "output_type": "execute_result"
    },
    {
     "data": {
      "image/png": "[encoded data removed]",
      "text/plain": [
       "<Figure size 1072.12x500 with 2 Axes>"
      ]
     },
     "metadata": {},
     "output_type": "display_data"
    }
   ],
   "source": [
    "sns.catplot(data=df_melted,col=\"cardio\",y=\"total\",hue=\"value\",x=\"variable\",kind=\"bar\")\n"
   ]
  },
  {
   "cell_type": "markdown",
   "id": "8ac8d537",
   "metadata": {},
   "source": [
    "**Clean the data. Filter out the following patient segments that represent incorrect data:**\n",
    "\n",
    "* diastolic pressure is higher than systolic (Keep the correct data with (df['ap_lo'] <= df['ap_hi'])).\n",
    "\n",
    "* height is less than the 2.5th percentile (Keep the correct data with (df['height'] >= df['height'].quantile(0.025))).\n",
    "\n",
    "* height is more than the 97.5th percentile.\n",
    "\n",
    "* weight is less than the 2.5th percentile.\n",
    "\n",
    "* weight is more than the 97.5th percentile."
   ]
  },
  {
   "cell_type": "code",
   "execution_count": 224,
   "id": "52f0bce3",
   "metadata": {
    "ExecuteTime": {
     "end_time": "2022-09-08T17:27:30.400447Z",
     "start_time": "2022-09-08T17:27:30.370532Z"
    }
   },
   "outputs": [
    {
     "data": {
      "text/html": [
       "<div>\n",
       "<style scoped>\n",
       "    .dataframe tbody tr th:only-of-type {\n",
       "        vertical-align: middle;\n",
       "    }\n",
       "\n",
       "    .dataframe tbody tr th {\n",
       "        vertical-align: top;\n",
       "    }\n",
       "\n",
       "    .dataframe thead th {\n",
       "        text-align: right;\n",
       "    }\n",
       "</style>\n",
       "<table border=\"1\" class=\"dataframe\">\n",
       "  <thead>\n",
       "    <tr style=\"text-align: right;\">\n",
       "      <th></th>\n",
       "      <th>id</th>\n",
       "      <th>age</th>\n",
       "      <th>sex</th>\n",
       "      <th>height</th>\n",
       "      <th>weight</th>\n",
       "      <th>ap_hi</th>\n",
       "      <th>ap_lo</th>\n",
       "      <th>cholesterol</th>\n",
       "      <th>gluc</th>\n",
       "      <th>smoke</th>\n",
       "      <th>alco</th>\n",
       "      <th>active</th>\n",
       "      <th>cardio</th>\n",
       "      <th>overweight</th>\n",
       "    </tr>\n",
       "  </thead>\n",
       "  <tbody>\n",
       "    <tr>\n",
       "      <th>0</th>\n",
       "      <td>0</td>\n",
       "      <td>18393</td>\n",
       "      <td>2</td>\n",
       "      <td>1.68</td>\n",
       "      <td>62.0</td>\n",
       "      <td>110</td>\n",
       "      <td>80</td>\n",
       "      <td>0</td>\n",
       "      <td>0</td>\n",
       "      <td>0</td>\n",
       "      <td>0</td>\n",
       "      <td>1</td>\n",
       "      <td>0</td>\n",
       "      <td>0.0</td>\n",
       "    </tr>\n",
       "    <tr>\n",
       "      <th>1</th>\n",
       "      <td>1</td>\n",
       "      <td>20228</td>\n",
       "      <td>1</td>\n",
       "      <td>1.56</td>\n",
       "      <td>85.0</td>\n",
       "      <td>140</td>\n",
       "      <td>90</td>\n",
       "      <td>1</td>\n",
       "      <td>0</td>\n",
       "      <td>0</td>\n",
       "      <td>0</td>\n",
       "      <td>1</td>\n",
       "      <td>1</td>\n",
       "      <td>1.0</td>\n",
       "    </tr>\n",
       "    <tr>\n",
       "      <th>2</th>\n",
       "      <td>2</td>\n",
       "      <td>18857</td>\n",
       "      <td>1</td>\n",
       "      <td>1.65</td>\n",
       "      <td>64.0</td>\n",
       "      <td>130</td>\n",
       "      <td>70</td>\n",
       "      <td>1</td>\n",
       "      <td>0</td>\n",
       "      <td>0</td>\n",
       "      <td>0</td>\n",
       "      <td>0</td>\n",
       "      <td>1</td>\n",
       "      <td>0.0</td>\n",
       "    </tr>\n",
       "    <tr>\n",
       "      <th>3</th>\n",
       "      <td>3</td>\n",
       "      <td>17623</td>\n",
       "      <td>2</td>\n",
       "      <td>1.69</td>\n",
       "      <td>82.0</td>\n",
       "      <td>150</td>\n",
       "      <td>100</td>\n",
       "      <td>0</td>\n",
       "      <td>0</td>\n",
       "      <td>0</td>\n",
       "      <td>0</td>\n",
       "      <td>1</td>\n",
       "      <td>1</td>\n",
       "      <td>1.0</td>\n",
       "    </tr>\n",
       "    <tr>\n",
       "      <th>4</th>\n",
       "      <td>4</td>\n",
       "      <td>17474</td>\n",
       "      <td>1</td>\n",
       "      <td>1.56</td>\n",
       "      <td>56.0</td>\n",
       "      <td>100</td>\n",
       "      <td>60</td>\n",
       "      <td>0</td>\n",
       "      <td>0</td>\n",
       "      <td>0</td>\n",
       "      <td>0</td>\n",
       "      <td>0</td>\n",
       "      <td>0</td>\n",
       "      <td>0.0</td>\n",
       "    </tr>\n",
       "    <tr>\n",
       "      <th>...</th>\n",
       "      <td>...</td>\n",
       "      <td>...</td>\n",
       "      <td>...</td>\n",
       "      <td>...</td>\n",
       "      <td>...</td>\n",
       "      <td>...</td>\n",
       "      <td>...</td>\n",
       "      <td>...</td>\n",
       "      <td>...</td>\n",
       "      <td>...</td>\n",
       "      <td>...</td>\n",
       "      <td>...</td>\n",
       "      <td>...</td>\n",
       "      <td>...</td>\n",
       "    </tr>\n",
       "    <tr>\n",
       "      <th>69993</th>\n",
       "      <td>99991</td>\n",
       "      <td>19699</td>\n",
       "      <td>1</td>\n",
       "      <td>1.72</td>\n",
       "      <td>70.0</td>\n",
       "      <td>130</td>\n",
       "      <td>90</td>\n",
       "      <td>0</td>\n",
       "      <td>0</td>\n",
       "      <td>0</td>\n",
       "      <td>0</td>\n",
       "      <td>1</td>\n",
       "      <td>1</td>\n",
       "      <td>0.0</td>\n",
       "    </tr>\n",
       "    <tr>\n",
       "      <th>69994</th>\n",
       "      <td>99992</td>\n",
       "      <td>21074</td>\n",
       "      <td>1</td>\n",
       "      <td>1.65</td>\n",
       "      <td>80.0</td>\n",
       "      <td>150</td>\n",
       "      <td>80</td>\n",
       "      <td>0</td>\n",
       "      <td>0</td>\n",
       "      <td>0</td>\n",
       "      <td>0</td>\n",
       "      <td>1</td>\n",
       "      <td>1</td>\n",
       "      <td>1.0</td>\n",
       "    </tr>\n",
       "    <tr>\n",
       "      <th>69995</th>\n",
       "      <td>99993</td>\n",
       "      <td>19240</td>\n",
       "      <td>2</td>\n",
       "      <td>1.68</td>\n",
       "      <td>76.0</td>\n",
       "      <td>120</td>\n",
       "      <td>80</td>\n",
       "      <td>0</td>\n",
       "      <td>0</td>\n",
       "      <td>1</td>\n",
       "      <td>0</td>\n",
       "      <td>1</td>\n",
       "      <td>0</td>\n",
       "      <td>1.0</td>\n",
       "    </tr>\n",
       "    <tr>\n",
       "      <th>69998</th>\n",
       "      <td>99998</td>\n",
       "      <td>22431</td>\n",
       "      <td>1</td>\n",
       "      <td>1.63</td>\n",
       "      <td>72.0</td>\n",
       "      <td>135</td>\n",
       "      <td>80</td>\n",
       "      <td>0</td>\n",
       "      <td>1</td>\n",
       "      <td>0</td>\n",
       "      <td>0</td>\n",
       "      <td>0</td>\n",
       "      <td>1</td>\n",
       "      <td>1.0</td>\n",
       "    </tr>\n",
       "    <tr>\n",
       "      <th>69999</th>\n",
       "      <td>99999</td>\n",
       "      <td>20540</td>\n",
       "      <td>1</td>\n",
       "      <td>1.70</td>\n",
       "      <td>72.0</td>\n",
       "      <td>120</td>\n",
       "      <td>80</td>\n",
       "      <td>1</td>\n",
       "      <td>0</td>\n",
       "      <td>0</td>\n",
       "      <td>0</td>\n",
       "      <td>1</td>\n",
       "      <td>0</td>\n",
       "      <td>0.0</td>\n",
       "    </tr>\n",
       "  </tbody>\n",
       "</table>\n",
       "<p>63259 rows × 14 columns</p>\n",
       "</div>"
      ],
      "text/plain": [
       "          id    age  sex  height  weight  ap_hi  ap_lo  cholesterol  gluc  \\\n",
       "0          0  18393    2    1.68    62.0    110     80            0     0   \n",
       "1          1  20228    1    1.56    85.0    140     90            1     0   \n",
       "2          2  18857    1    1.65    64.0    130     70            1     0   \n",
       "3          3  17623    2    1.69    82.0    150    100            0     0   \n",
       "4          4  17474    1    1.56    56.0    100     60            0     0   \n",
       "...      ...    ...  ...     ...     ...    ...    ...          ...   ...   \n",
       "69993  99991  19699    1    1.72    70.0    130     90            0     0   \n",
       "69994  99992  21074    1    1.65    80.0    150     80            0     0   \n",
       "69995  99993  19240    2    1.68    76.0    120     80            0     0   \n",
       "69998  99998  22431    1    1.63    72.0    135     80            0     1   \n",
       "69999  99999  20540    1    1.70    72.0    120     80            1     0   \n",
       "\n",
       "       smoke  alco  active  cardio  overweight  \n",
       "0          0     0       1       0         0.0  \n",
       "1          0     0       1       1         1.0  \n",
       "2          0     0       0       1         0.0  \n",
       "3          0     0       1       1         1.0  \n",
       "4          0     0       0       0         0.0  \n",
       "...      ...   ...     ...     ...         ...  \n",
       "69993      0     0       1       1         0.0  \n",
       "69994      0     0       1       1         1.0  \n",
       "69995      1     0       1       0         1.0  \n",
       "69998      0     0       0       1         1.0  \n",
       "69999      0     0       1       0         0.0  \n",
       "\n",
       "[63259 rows x 14 columns]"
      ]
     },
     "execution_count": 224,
     "metadata": {},
     "output_type": "execute_result"
    }
   ],
   "source": [
    "condition1 = df['ap_lo'] <= df['ap_hi']\n",
    "condition2 = df['height'] >= df['height'].quantile(0.025)\n",
    "condition3 = df['height'] <= df['height'].quantile(0.975)\n",
    "condition4 = df['weight'] >= df['weight'].quantile(0.025)\n",
    "condition5 = df['weight'] <= df['weight'].quantile(0.975)\n",
    "\n",
    "df = df.loc[(condition1) & (condition2) & (condition3) & (condition4) & (condition5)]\n",
    "df"
   ]
  },
  {
   "cell_type": "markdown",
   "id": "4f054e25",
   "metadata": {},
   "source": [
    "**Create a correlation matrix using the dataset. Plot the correlation matrix using seaborn's heatmap(). Mask the upper triangle. The chart should look like examples/Figure_2.png.**"
   ]
  },
  {
   "cell_type": "code",
   "execution_count": 229,
   "id": "f04bc2ec",
   "metadata": {
    "ExecuteTime": {
     "end_time": "2022-09-08T17:28:49.170372Z",
     "start_time": "2022-09-08T17:28:48.650245Z"
    }
   },
   "outputs": [
    {
     "data": {
      "text/plain": [
       "<AxesSubplot:>"
      ]
     },
     "execution_count": 229,
     "metadata": {},
     "output_type": "execute_result"
    },
    {
     "data": {
      "image/png": "[encoded data removed]",
      "text/plain": [
       "<Figure size 1600x900 with 2 Axes>"
      ]
     },
     "metadata": {},
     "output_type": "display_data"
    }
   ],
   "source": [
    "sns.set_theme()\n",
    "plt.figure(figsize=(16,9))\n",
    "corr_df = df.corr()\n",
    "mask = np.triu(np.ones_like(corr_df.corr()))\n",
    "sns.heatmap(data=corr_df,\n",
    "            mask=mask,\n",
    "            square=True,\n",
    "            annot=True,\n",
    "            fmt=\".1f\",\n",
    "            linewidths=0.25,\n",
    "            linecolor=\"white\",\n",
    "           center=0)"
   ]
  }
 ],
 "metadata": {
  "kernelspec": {
   "display_name": "Python 3 (ipykernel)",
   "language": "python",
   "name": "python3"
  },
  "language_info": {
   "codemirror_mode": {
    "name": "ipython",
    "version": 3
   },
   "file_extension": ".py",
   "mimetype": "text/x-python",
   "name": "python",
   "nbconvert_exporter": "python",
   "pygments_lexer": "ipython3",
   "version": "3.9.13"
  },
  "toc": {
   "base_numbering": 1,
   "nav_menu": {},
   "number_sections": true,
   "sideBar": true,
   "skip_h1_title": false,
   "title_cell": "Table of Contents",
   "title_sidebar": "Contents",
   "toc_cell": false,
   "toc_position": {},
   "toc_section_display": true,
   "toc_window_display": false
  },
  "varInspector": {
   "cols": {
    "lenName": 16,
    "lenType": 16,
    "lenVar": 40
   },
   "kernels_config": {
    "python": {
     "delete_cmd_postfix": "",
     "delete_cmd_prefix": "del ",
     "library": "var_list.py",
     "varRefreshCmd": "print(var_dic_list())"
    },
    "r": {
     "delete_cmd_postfix": ") ",
     "delete_cmd_prefix": "rm(",
     "library": "var_list.r",
     "varRefreshCmd": "cat(var_dic_list()) "
    }
   },
   "types_to_exclude": [
    "module",
    "function",
    "builtin_function_or_method",
    "instance",
    "_Feature"
   ],
   "window_display": false
  }
 },
 "nbformat": 4,
 "nbformat_minor": 5
}
